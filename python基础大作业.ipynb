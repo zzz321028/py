{
 "cells": [
  {
   "cell_type": "code",
   "execution_count": 11,
   "metadata": {},
   "outputs": [],
   "source": [
    "import pandas as pd\n",
    "import time\n",
    "\n",
    "tags = pd.read_csv('tags.csv')\n",
    "ratings = pd.read_csv('ratings.csv')\n",
    "movies = pd.read_csv('movies.csv')\n",
    "links = pd.read_csv('links.csv')\n",
    "tags.head()\n",
    "ratings.head()\n",
    "movies.head()\n",
    "links.head()\n",
    "\n",
    "# 1. 不同用户\n",
    "users = list()\n",
    "users.extend(tags['userId'].tolist())\n",
    "users.extend(ratings['userId'].tolist())"
   ]
  },
  {
   "cell_type": "code",
   "execution_count": 12,
   "metadata": {},
   "outputs": [
    {
     "name": "stdout",
     "output_type": "stream",
     "text": [
      "1. 一共有 162541 个不同的用户\n"
     ]
    }
   ],
   "source": [
    "print('1. 一共有 %s 个不同的用户' % (str(len(set(users)))))"
   ]
  },
  {
   "cell_type": "code",
   "execution_count": 13,
   "metadata": {},
   "outputs": [],
   "source": [
    "# 2. 不同电影\n",
    "m = movies['movieId'].tolist()"
   ]
  },
  {
   "cell_type": "code",
   "execution_count": 14,
   "metadata": {},
   "outputs": [
    {
     "name": "stdout",
     "output_type": "stream",
     "text": [
      "2. 一共有 62423 种不同的电影\n"
     ]
    }
   ],
   "source": [
    "print('2. 一共有 %s 种不同的电影' % (str(len(set(m)))))"
   ]
  },
  {
   "cell_type": "code",
   "execution_count": 15,
   "metadata": {},
   "outputs": [],
   "source": [
    "# 3. 不同电影种类\n",
    "m_type_tmp = movies['genres'].tolist()\n",
    "m_type = list()\n",
    "for item in m_type_tmp:\n",
    "    if '|' in item:\n",
    "        m_type.extend(item.split('|'))\n",
    "    else:\n",
    "        m_type.append(item)"
   ]
  },
  {
   "cell_type": "code",
   "execution_count": 16,
   "metadata": {},
   "outputs": [
    {
     "name": "stdout",
     "output_type": "stream",
     "text": [
      "3. 一共有 20 个不同的电影种类\n"
     ]
    }
   ],
   "source": [
    "print('3. 一共有 %s 个不同的电影种类' % (str(len(set(m_type)))))"
   ]
  },
  {
   "cell_type": "code",
   "execution_count": 17,
   "metadata": {},
   "outputs": [],
   "source": [
    "# 4. 电影无外部链接\n",
    "all_movie_id = set(movies['movieId'].tolist())\n",
    "has_link_movie_id = set(links['movieId'].tolist())\n",
    "no_link_movie_id = all_movie_id - has_link_movie_id"
   ]
  },
  {
   "cell_type": "code",
   "execution_count": 18,
   "metadata": {},
   "outputs": [
    {
     "name": "stdout",
     "output_type": "stream",
     "text": [
      "4. 一共有 0 部电影没有外部链接\n"
     ]
    }
   ],
   "source": [
    "print('4. 一共有 %s 部电影没有外部链接' % (str(len(no_link_movie_id))))"
   ]
  },
  {
   "cell_type": "code",
   "execution_count": 19,
   "metadata": {},
   "outputs": [],
   "source": [
    "#5. 2018年进行电影评分用户\n",
    "def trans(timestamp):\n",
    "    time_local = time.localtime(timestamp)\n",
    "    dt = time.strftime(\"%Y\", time_local)\n",
    "    return dt\n",
    "\n",
    "ratings['timestamp'] = ratings['timestamp'].apply(trans)\n",
    "ratings_t_2018 = ratings[ratings['timestamp'] == '2018']\n",
    "u = ratings_t_2018['userId'].tolist()"
   ]
  },
  {
   "cell_type": "code",
   "execution_count": 21,
   "metadata": {},
   "outputs": [
    {
     "name": "stdout",
     "output_type": "stream",
     "text": [
      "5. 2018年一共有 11999 人进行电影评分\n"
     ]
    }
   ],
   "source": [
    "print('5. 2018年一共有 %s 人进行电影评分' % (str(len(set(u)))))"
   ]
  }
 ],
 "metadata": {
  "kernelspec": {
   "display_name": "Python 3",
   "language": "python",
   "name": "python3"
  },
  "language_info": {
   "codemirror_mode": {
    "name": "ipython",
    "version": 3
   },
   "file_extension": ".py",
   "mimetype": "text/x-python",
   "name": "python",
   "nbconvert_exporter": "python",
   "pygments_lexer": "ipython3",
   "version": "3.8.3"
  }
 },
 "nbformat": 4,
 "nbformat_minor": 4
}
